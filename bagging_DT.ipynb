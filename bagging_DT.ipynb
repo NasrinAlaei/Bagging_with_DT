{
  "nbformat": 4,
  "nbformat_minor": 0,
  "metadata": {
    "colab": {
      "name": "bagging_DT.ipynb",
      "provenance": [],
      "collapsed_sections": []
    },
    "kernelspec": {
      "name": "python3",
      "display_name": "Python 3"
    }
  },
  "cells": [
    {
      "cell_type": "code",
      "metadata": {
        "id": "n1jLfzVQJoq9"
      },
      "source": [
        "#import libraries\r\n",
        "from random import seed\r\n",
        "from random import random\r\n",
        "from random import randrange\r\n",
        "from csv import reader\r\n",
        "import pandas as pd"
      ],
      "execution_count": 1,
      "outputs": []
    },
    {
      "cell_type": "code",
      "metadata": {
        "colab": {
          "resources": {
            "http://localhost:8080/nbextensions/google.colab/files.js": {
              "data": "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",
              "ok": true,
              "headers": [
                [
                  "content-type",
                  "application/javascript"
                ]
              ],
              "status": 200,
              "status_text": ""
            }
          },
          "base_uri": "https://localhost:8080/",
          "height": 73
        },
        "id": "QrcQkw6JJomm",
        "outputId": "89fdb0af-6d92-40d8-8165-a28e2af18dd2"
      },
      "source": [
        "from google.colab import files\r\n",
        "uploaded = files.upload()"
      ],
      "execution_count": 2,
      "outputs": [
        {
          "output_type": "display_data",
          "data": {
            "text/html": [
              "\n",
              "     <input type=\"file\" id=\"files-cfa1d8f5-abe0-4a8a-8268-46b05f2e5e68\" name=\"files[]\" multiple disabled\n",
              "        style=\"border:none\" />\n",
              "     <output id=\"result-cfa1d8f5-abe0-4a8a-8268-46b05f2e5e68\">\n",
              "      Upload widget is only available when the cell has been executed in the\n",
              "      current browser session. Please rerun this cell to enable.\n",
              "      </output>\n",
              "      <script src=\"/nbextensions/google.colab/files.js\"></script> "
            ],
            "text/plain": [
              "<IPython.core.display.HTML object>"
            ]
          },
          "metadata": {
            "tags": []
          }
        },
        {
          "output_type": "stream",
          "text": [
            "Saving sonar.all-data.csv to sonar.all-data.csv\n"
          ],
          "name": "stdout"
        }
      ]
    },
    {
      "cell_type": "code",
      "metadata": {
        "id": "jyvh6RCgSke5"
      },
      "source": [
        "import io\r\n",
        "dataset = pd.read_csv(io.BytesIO(uploaded['sonar.all-data.csv']))"
      ],
      "execution_count": null,
      "outputs": []
    },
    {
      "cell_type": "code",
      "metadata": {
        "id": "-ek0d7WWHKk-"
      },
      "source": [
        "# Create a random subsample from the dataset with replacement\r\n",
        "def subsample(dataset, ratio=1.0):\r\n",
        "\tsample = list()\r\n",
        "\tn_sample = round(len(dataset) * ratio)\r\n",
        "\twhile len(sample) < n_sample:\r\n",
        "\t\tindex = randrange(len(dataset)) # select random raw index from dataset\r\n",
        "\t\tsample.append(dataset[index]) # append  choosen data to list\r\n",
        "\treturn sample\r\n"
      ],
      "execution_count": null,
      "outputs": []
    },
    {
      "cell_type": "code",
      "metadata": {
        "id": "yHWEtwB1IGg7"
      },
      "source": [
        "# Calculate the mean of a list of numbers\r\n",
        "def mean(numbers):\r\n",
        "\treturn sum(numbers) / float(len(numbers))\r\n"
      ],
      "execution_count": null,
      "outputs": []
    },
    {
      "cell_type": "code",
      "metadata": {
        "colab": {
          "base_uri": "https://localhost:8080/"
        },
        "id": "dBzNDbHFKbZ1",
        "outputId": "7f60b7b9-05f4-42cd-c6b4-d73721786ac2"
      },
      "source": [
        "seed(1)\r\n",
        "# True mean\r\n",
        "dataset = [[randrange(10)] for i in range(20)]\r\n",
        "print('True Mean: %.3f' % mean([row[0] for row in dataset]))\r\n",
        "# Estimated means\r\n",
        "ratio = 0.10\r\n",
        "for size in [1, 10, 100]:\r\n",
        "\tsample_means = list()\r\n",
        "\tfor i in range(size):\r\n",
        "\t\tsample = subsample(dataset, ratio)\r\n",
        "\t\tsample_mean = mean([row[0] for row in sample])\r\n",
        "\t\tsample_means.append(sample_mean)\r\n",
        "\tprint('Samples=%d, Estimated Mean: %.3f' % (size, mean(sample_means)))"
      ],
      "execution_count": null,
      "outputs": [
        {
          "output_type": "stream",
          "text": [
            "True Mean: 4.500\n",
            "Samples=1, Estimated Mean: 4.000\n",
            "Samples=10, Estimated Mean: 4.700\n",
            "Samples=100, Estimated Mean: 4.570\n"
          ],
          "name": "stdout"
        }
      ]
    },
    {
      "cell_type": "code",
      "metadata": {
        "id": "6UZwPi1sKhMp"
      },
      "source": [
        "# Bagging Algorithm on the Sonar dataset\r\n",
        "\r\n",
        "# Load a CSV file\r\n",
        "def load_csv(filename):\r\n",
        "\tdataset = list()\r\n",
        "\twith open('sonar.all-data.csv', 'r') as file:\r\n",
        "\t\tcsv_reader = reader(file)\r\n",
        "\t\tfor row in csv_reader:\r\n",
        "\t\t\tif not row:\r\n",
        "\t\t\t\tcontinue\r\n",
        "\t\t\tdataset.append(row)\r\n",
        "\treturn dataset"
      ],
      "execution_count": null,
      "outputs": []
    },
    {
      "cell_type": "code",
      "metadata": {
        "id": "1C_Mze2mK_Ud"
      },
      "source": [
        "# Convert string column to float\r\n",
        "def str_column_to_float(dataset, column):\r\n",
        "\tfor row in dataset:\r\n",
        "\t\trow[column] = float(row[column].strip())"
      ],
      "execution_count": null,
      "outputs": []
    },
    {
      "cell_type": "code",
      "metadata": {
        "id": "B17dEz1QLCQz"
      },
      "source": [
        "# Convert string column to integer\r\n",
        "def str_column_to_int(dataset, column):\r\n",
        "\tclass_values = [row[column] for row in dataset]\r\n",
        "\tunique = set(class_values)\r\n",
        "\tlookup = dict()\r\n",
        "\tfor i, value in enumerate(unique):\r\n",
        "\t\tlookup[value] = i\r\n",
        "\tfor row in dataset:\r\n",
        "\t\trow[column] = lookup[row[column]]\r\n",
        "\treturn lookup\r\n",
        "\r\n",
        "# Split a dataset into k folds\r\n",
        "def cross_validation_split(dataset, n_folds):\r\n",
        "\tdataset_split = list()\r\n",
        "\tdataset_copy = list(dataset)\r\n",
        "\tfold_size = int(len(dataset) / n_folds)\r\n",
        "\tfor i in range(n_folds):\r\n",
        "\t\tfold = list()\r\n",
        "\t\twhile len(fold) < fold_size:\r\n",
        "\t\t\tindex = randrange(len(dataset_copy))\r\n",
        "\t\t\tfold.append(dataset_copy.pop(index))\r\n",
        "\t\tdataset_split.append(fold)\r\n",
        "\treturn dataset_split"
      ],
      "execution_count": null,
      "outputs": []
    },
    {
      "cell_type": "code",
      "metadata": {
        "id": "PsSNOzeULFhO"
      },
      "source": [
        "# Calculate accuracy percentage\r\n",
        "def accuracy_metric(actual, predicted):\r\n",
        "\tcorrect = 0\r\n",
        "\tfor i in range(len(actual)):\r\n",
        "\t\tif actual[i] == predicted[i]:\r\n",
        "\t\t\tcorrect += 1\r\n",
        "\treturn correct / float(len(actual)) * 100.0\r\n",
        "\r\n",
        "# Evaluate an algorithm using a cross validation split\r\n",
        "def evaluate_algorithm(dataset, algorithm, n_folds, *args):\r\n",
        "\tfolds = cross_validation_split(dataset, n_folds)\r\n",
        "\tscores = list()\r\n",
        "\tfor fold in folds:\r\n",
        "\t\ttrain_set = list(folds)\r\n",
        "\t\ttrain_set.remove(fold)\r\n",
        "\t\ttrain_set = sum(train_set, [])\r\n",
        "\t\ttest_set = list()\r\n",
        "\t\tfor row in fold:\r\n",
        "\t\t\trow_copy = list(row)\r\n",
        "\t\t\ttest_set.append(row_copy)\r\n",
        "\t\t\trow_copy[-1] = None\r\n",
        "\t\tpredicted = algorithm(train_set, test_set, *args)\r\n",
        "\t\tactual = [row[-1] for row in fold]\r\n",
        "\t\taccuracy = accuracy_metric(actual, predicted)\r\n",
        "\t\tscores.append(accuracy)\r\n",
        "\treturn scores"
      ],
      "execution_count": null,
      "outputs": []
    },
    {
      "cell_type": "code",
      "metadata": {
        "id": "rpLj5HeqLJdF"
      },
      "source": [
        "# Split a dataset based on an attribute and an attribute value\r\n",
        "def test_split(index, value, dataset):\r\n",
        "\tleft, right = list(), list()\r\n",
        "\tfor row in dataset:\r\n",
        "\t\tif row[index] < value:\r\n",
        "\t\t\tleft.append(row)\r\n",
        "\t\telse:\r\n",
        "\t\t\tright.append(row)\r\n",
        "\treturn left, right"
      ],
      "execution_count": null,
      "outputs": []
    },
    {
      "cell_type": "code",
      "metadata": {
        "id": "8tnTvpxDLMwQ"
      },
      "source": [
        "# Calculate the Gini index for a split dataset\r\n",
        "def gini_index(groups, classes):\r\n",
        "\t# count all samples at split point\r\n",
        "\tn_instances = float(sum([len(group) for group in groups]))\r\n",
        "\t# sum weighted Gini index for each group\r\n",
        "\tgini = 0.0\r\n",
        "\tfor group in groups:\r\n",
        "\t\tsize = float(len(group))\r\n",
        "\t\t# avoid divide by zero\r\n",
        "\t\tif size == 0:\r\n",
        "\t\t\tcontinue\r\n",
        "\t\tscore = 0.0\r\n",
        "\t\t# score the group based on the score for each class\r\n",
        "\t\tfor class_val in classes:\r\n",
        "\t\t\tp = [row[-1] for row in group].count(class_val) / size\r\n",
        "\t\t\tscore += p * p\r\n",
        "\t\t# weight the group score by its relative size\r\n",
        "\t\tgini += (1.0 - score) * (size / n_instances)\r\n",
        "\treturn gini"
      ],
      "execution_count": null,
      "outputs": []
    },
    {
      "cell_type": "code",
      "metadata": {
        "id": "L_soGcpILPpg"
      },
      "source": [
        "# Select the best split point for a dataset\r\n",
        "def get_split(dataset):\r\n",
        "\tclass_values = list(set(row[-1] for row in dataset))\r\n",
        "\tb_index, b_value, b_score, b_groups = 999, 999, 999, None\r\n",
        "\tfor index in range(len(dataset[0])-1):\r\n",
        "\t\tfor row in dataset:\r\n",
        "\t\t# for i in range(len(dataset)):\r\n",
        "\t\t# \trow = dataset[randrange(len(dataset))]\r\n",
        "\t\t\tgroups = test_split(index, row[index], dataset)\r\n",
        "\t\t\tgini = gini_index(groups, class_values)\r\n",
        "\t\t\tif gini < b_score:\r\n",
        "\t\t\t\tb_index, b_value, b_score, b_groups = index, row[index], gini, groups\r\n",
        "\treturn {'index':b_index, 'value':b_value, 'groups':b_groups}"
      ],
      "execution_count": null,
      "outputs": []
    },
    {
      "cell_type": "code",
      "metadata": {
        "id": "C0RYXEsdLSPi"
      },
      "source": [
        "# Create a terminal node value\r\n",
        "def to_terminal(group):\r\n",
        "\toutcomes = [row[-1] for row in group]\r\n",
        "\treturn max(set(outcomes), key=outcomes.count)\r\n",
        "\r\n",
        "# Create child splits for a node or make terminal\r\n",
        "def split(node, max_depth, min_size, depth):\r\n",
        "\tleft, right = node['groups']\r\n",
        "\tdel(node['groups'])\r\n",
        "\t# check for a no split\r\n",
        "\tif not left or not right:\r\n",
        "\t\tnode['left'] = node['right'] = to_terminal(left + right)\r\n",
        "\t\treturn\r\n",
        "\t# check for max depth\r\n",
        "\tif depth >= max_depth:\r\n",
        "\t\tnode['left'], node['right'] = to_terminal(left), to_terminal(right)\r\n",
        "\t\treturn\r\n",
        "\t# process left child\r\n",
        "\tif len(left) <= min_size:\r\n",
        "\t\tnode['left'] = to_terminal(left)\r\n",
        "\telse:\r\n",
        "\t\tnode['left'] = get_split(left)\r\n",
        "\t\tsplit(node['left'], max_depth, min_size, depth+1)\r\n",
        "\t# process right child\r\n",
        "\tif len(right) <= min_size:\r\n",
        "\t\tnode['right'] = to_terminal(right)\r\n",
        "\telse:\r\n",
        "\t\tnode['right'] = get_split(right)\r\n",
        "\t\tsplit(node['right'], max_depth, min_size, depth+1)"
      ],
      "execution_count": null,
      "outputs": []
    },
    {
      "cell_type": "code",
      "metadata": {
        "id": "IvP1qYRXLVkE"
      },
      "source": [
        "# Build a decision tree\r\n",
        "def build_tree(train, max_depth, min_size):\r\n",
        "\troot = get_split(train)\r\n",
        "\tsplit(root, max_depth, min_size, 1)\r\n",
        "\treturn root\r\n",
        "\r\n",
        "# Make a prediction with a decision tree\r\n",
        "def predict(node, row):\r\n",
        "\tif row[node['index']] < node['value']:\r\n",
        "\t\tif isinstance(node['left'], dict):\r\n",
        "\t\t\treturn predict(node['left'], row)\r\n",
        "\t\telse:\r\n",
        "\t\t\treturn node['left']\r\n",
        "\telse:\r\n",
        "\t\tif isinstance(node['right'], dict):\r\n",
        "\t\t\treturn predict(node['right'], row)\r\n",
        "\t\telse:\r\n",
        "\t\t\treturn node['right']"
      ],
      "execution_count": null,
      "outputs": []
    },
    {
      "cell_type": "code",
      "metadata": {
        "id": "jbZuW_prLYNx"
      },
      "source": [
        "\r\n",
        "# Make a prediction with a list of bagged trees\r\n",
        "def bagging_predict(trees, row):\r\n",
        "\tpredictions = [predict(tree, row) for tree in trees]\r\n",
        "\treturn max(set(predictions), key=predictions.count)\r\n",
        "\r\n",
        "# Bootstrap Aggregation Algorithm\r\n",
        "def bagging(train, test, max_depth, min_size, sample_size, n_trees):\r\n",
        "\ttrees = list()\r\n",
        "\tfor i in range(n_trees):\r\n",
        "\t\tsample = subsample(train, sample_size)\r\n",
        "\t\ttree = build_tree(sample, max_depth, min_size)\r\n",
        "\t\ttrees.append(tree)\r\n",
        "\tpredictions = [bagging_predict(trees, row) for row in test]\r\n",
        "\treturn(predictions)"
      ],
      "execution_count": null,
      "outputs": []
    },
    {
      "cell_type": "code",
      "metadata": {
        "colab": {
          "base_uri": "https://localhost:8080/"
        },
        "id": "qrzYQENlLas3",
        "outputId": "737edc7b-ccdd-4bf1-e6be-e7c0804ad479"
      },
      "source": [
        "# Test bagging on the sonar dataset\r\n",
        "seed(1)\r\n",
        "# load and prepare data\r\n",
        "#filename = 'sonar.all-data.csv'\r\n",
        "#dataset = load_csv(filename)\r\n",
        "# convert string attributes to integers\r\n",
        "for i in range(len(dataset[0])-1):\r\n",
        "\tstr_column_to_float(dataset, i)\r\n",
        "# convert class column to integers\r\n",
        "str_column_to_int(dataset, len(dataset[0])-1)\r\n",
        "# evaluate algorithm\r\n",
        "n_folds = 5\r\n",
        "max_depth = 6\r\n",
        "min_size = 2\r\n",
        "sample_size = 0.50\r\n",
        "for n_trees in [1, 5, 10, 50]:\r\n",
        "\tscores = evaluate_algorithm(dataset, bagging, n_folds, max_depth, min_size, sample_size, n_trees)\r\n",
        "\tprint('Trees: %d' % n_trees)\r\n",
        "\tprint('Scores: %s' % scores)\r\n",
        "\tprint('Mean Accuracy: %.3f%%' % (sum(scores)/float(len(scores))))"
      ],
      "execution_count": null,
      "outputs": [
        {
          "output_type": "stream",
          "text": [
            "Trees: 1\n",
            "Scores: [87.8048780487805, 65.85365853658537, 65.85365853658537, 65.85365853658537, 73.17073170731707]\n",
            "Mean Accuracy: 71.707%\n",
            "Trees: 5\n",
            "Scores: [60.97560975609756, 80.48780487804879, 78.04878048780488, 82.92682926829268, 63.41463414634146]\n",
            "Mean Accuracy: 73.171%\n",
            "Trees: 10\n",
            "Scores: [58.536585365853654, 78.04878048780488, 80.48780487804879, 87.8048780487805, 65.85365853658537]\n",
            "Mean Accuracy: 74.146%\n",
            "Trees: 50\n",
            "Scores: [65.85365853658537, 75.60975609756098, 80.48780487804879, 73.17073170731707, 82.92682926829268]\n",
            "Mean Accuracy: 75.610%\n"
          ],
          "name": "stdout"
        }
      ]
    },
    {
      "cell_type": "code",
      "metadata": {
        "id": "2SpvFrTfLd5I"
      },
      "source": [
        ""
      ],
      "execution_count": null,
      "outputs": []
    }
  ]
}